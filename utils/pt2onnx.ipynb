{
 "cells": [
  {
   "cell_type": "code",
   "execution_count": null,
   "id": "a1302d7e",
   "metadata": {},
   "outputs": [],
   "source": [
    "import torch \n",
    "from transformers import BertTokenizer, BertForSequenceClassification\n",
    "\n",
    "model = BertForSequenceClassification.from_pretrained('bert-base-uncased', num_labels=2)\n",
    "tokenizer = BertTokenizer.from_pretrained('bert-base-uncased')\n",
    "model.load_state_dict(torch.load('../models/checkpoints/bert_20.07_13:15.pth', map_location='cpu'))\n",
    "model.eval()  "
   ]
  },
  {
   "cell_type": "code",
   "execution_count": 13,
   "id": "b54eed23",
   "metadata": {},
   "outputs": [],
   "source": [
    "inputs = tokenizer(\n",
    "    'heyy',\n",
    "    'hello',\n",
    "    padding='max_length',\n",
    "    truncation=True,\n",
    "    max_length=128,\n",
    "    return_tensors='pt'\n",
    ")\n",
    "inputs = {k: v.to('cpu') for k, v in inputs.items()}\n",
    "with torch.no_grad():\n",
    "    outputs = model(**inputs)\n",
    "    logits = outputs.logits\n",
    "    probs = logits.softmax(1)"
   ]
  },
  {
   "cell_type": "code",
   "execution_count": 19,
   "id": "44c12172",
   "metadata": {},
   "outputs": [
    {
     "data": {
      "text/plain": [
       "{'input_ids': tensor([[ 101, 4931, 2100,  102, 7592,  102,    0,    0,    0,    0,    0,    0,\n",
       "             0,    0,    0,    0,    0,    0,    0,    0,    0,    0,    0,    0,\n",
       "             0,    0,    0,    0,    0,    0,    0,    0,    0,    0,    0,    0,\n",
       "             0,    0,    0,    0,    0,    0,    0,    0,    0,    0,    0,    0,\n",
       "             0,    0,    0,    0,    0,    0,    0,    0,    0,    0,    0,    0,\n",
       "             0,    0,    0,    0,    0,    0,    0,    0,    0,    0,    0,    0,\n",
       "             0,    0,    0,    0,    0,    0,    0,    0,    0,    0,    0,    0,\n",
       "             0,    0,    0,    0,    0,    0,    0,    0,    0,    0,    0,    0,\n",
       "             0,    0,    0,    0,    0,    0,    0,    0,    0,    0,    0,    0,\n",
       "             0,    0,    0,    0,    0,    0,    0,    0,    0,    0,    0,    0,\n",
       "             0,    0,    0,    0,    0,    0,    0,    0]]),\n",
       " 'token_type_ids': tensor([[0, 0, 0, 0, 1, 1, 0, 0, 0, 0, 0, 0, 0, 0, 0, 0, 0, 0, 0, 0, 0, 0, 0, 0,\n",
       "          0, 0, 0, 0, 0, 0, 0, 0, 0, 0, 0, 0, 0, 0, 0, 0, 0, 0, 0, 0, 0, 0, 0, 0,\n",
       "          0, 0, 0, 0, 0, 0, 0, 0, 0, 0, 0, 0, 0, 0, 0, 0, 0, 0, 0, 0, 0, 0, 0, 0,\n",
       "          0, 0, 0, 0, 0, 0, 0, 0, 0, 0, 0, 0, 0, 0, 0, 0, 0, 0, 0, 0, 0, 0, 0, 0,\n",
       "          0, 0, 0, 0, 0, 0, 0, 0, 0, 0, 0, 0, 0, 0, 0, 0, 0, 0, 0, 0, 0, 0, 0, 0,\n",
       "          0, 0, 0, 0, 0, 0, 0, 0]]),\n",
       " 'attention_mask': tensor([[1, 1, 1, 1, 1, 1, 0, 0, 0, 0, 0, 0, 0, 0, 0, 0, 0, 0, 0, 0, 0, 0, 0, 0,\n",
       "          0, 0, 0, 0, 0, 0, 0, 0, 0, 0, 0, 0, 0, 0, 0, 0, 0, 0, 0, 0, 0, 0, 0, 0,\n",
       "          0, 0, 0, 0, 0, 0, 0, 0, 0, 0, 0, 0, 0, 0, 0, 0, 0, 0, 0, 0, 0, 0, 0, 0,\n",
       "          0, 0, 0, 0, 0, 0, 0, 0, 0, 0, 0, 0, 0, 0, 0, 0, 0, 0, 0, 0, 0, 0, 0, 0,\n",
       "          0, 0, 0, 0, 0, 0, 0, 0, 0, 0, 0, 0, 0, 0, 0, 0, 0, 0, 0, 0, 0, 0, 0, 0,\n",
       "          0, 0, 0, 0, 0, 0, 0, 0]])}"
      ]
     },
     "execution_count": 19,
     "metadata": {},
     "output_type": "execute_result"
    }
   ],
   "source": [
    "inputs"
   ]
  },
  {
   "cell_type": "code",
   "execution_count": 24,
   "id": "aea01606",
   "metadata": {},
   "outputs": [
    {
     "data": {
      "text/plain": [
       "SequenceClassifierOutput(loss=None, logits=tensor([[-0.1155, -0.2844]]), hidden_states=None, attentions=None)"
      ]
     },
     "execution_count": 24,
     "metadata": {},
     "output_type": "execute_result"
    }
   ],
   "source": [
    "outputs"
   ]
  },
  {
   "cell_type": "code",
   "execution_count": 25,
   "id": "17cadba0",
   "metadata": {},
   "outputs": [
    {
     "name": "stderr",
     "output_type": "stream",
     "text": [
      "/home/dmitrij/Документы/envs/base1/lib/python3.12/site-packages/torch/onnx/utils.py:2135: UserWarning: Provided key last_hidden_state for dynamic axes is not a valid input/output name\n",
      "  warnings.warn(\n",
      "/home/dmitrij/Документы/envs/base1/lib/python3.12/site-packages/torch/onnx/utils.py:2135: UserWarning: Provided key pooler_output for dynamic axes is not a valid input/output name\n",
      "  warnings.warn(\n"
     ]
    }
   ],
   "source": [
    "batch_size = 1\n",
    "max_length = 128  # или другая длина, которую вы используете\n",
    "\n",
    "dummy_input = {\n",
    "    'input_ids': torch.randint(0, 1000, (batch_size, max_length), dtype=torch.long),\n",
    "    'token_type_ids': torch.zeros(batch_size, max_length, dtype=torch.long),\n",
    "    'attention_mask': torch.ones(batch_size, max_length, dtype=torch.long)\n",
    "}\n",
    "\n",
    "# Конвертация в ONNX\n",
    "torch.onnx.export(\n",
    "    model,                          # модель для экспорта\n",
    "    (dummy_input['input_ids'], \n",
    "     dummy_input['attention_mask'], \n",
    "     dummy_input['token_type_ids']), # входные данные (в виде tuple)\n",
    "    \"bert_model.onnx\",             # имя выходного файла\n",
    "    export_params=True,            # сохранить веса модели\n",
    "    opset_version=14,              # версия ONNX opset\n",
    "    do_constant_folding=True,      # оптимизация констант\n",
    "    input_names=['input_ids', 'attention_mask', 'token_type_ids'],  # имена входов\n",
    "    output_names=['logits'],           # имена выходов\n",
    "    dynamic_axes={\n",
    "        'input_ids': {0: 'batch_size', 1: 'sequence'},\n",
    "        'attention_mask': {0: 'batch_size', 1: 'sequence'},\n",
    "        'token_type_ids': {0: 'batch_size', 1: 'sequence'},\n",
    "        'last_hidden_state': {0: 'batch_size', 1: 'sequence'},\n",
    "        'pooler_output': {0: 'batch_size'}\n",
    "    }\n",
    ")"
   ]
  },
  {
   "cell_type": "code",
   "execution_count": null,
   "id": "0a660e8b",
   "metadata": {},
   "outputs": [],
   "source": [
    "\n",
    "# Экспорт модели в формат ONNX\n",
    "dummy_input = torch.randn(1, 128, device='cpu')  # Пример входного тензора\n",
    "onnx_file_path = \"model.onnx\"  # Путь для сохранения ONNX файла\n",
    "\n",
    "# Экспорт модели\n",
    "with torch.no_grad():\n",
    "    torch.onnx.export(\n",
    "        model,  # Модель PyTorch\n",
    "        dummy_input,  # Пример входных данных\n",
    "        onnx_file_path,  # Путь для сохранения ONNX файла\n",
    "        export_params=True,  # Экспортировать обученные параметры\n",
    "        opset_version=14,  # Версия ONNX операторов\n",
    "        do_constant_folding=True,  # Оптимизация констант\n",
    "        input_names=[\"input\"],  # Имя входного тензора\n",
    "        output_names=[\"output\"],  # Имя выходного тензора\n",
    "        dynamic_axes={\n",
    "            \"input\": {0: \"batch_size\"},  # Динамический размер батча\n",
    "            \"output\": {0: \"batch_size\"},\n",
    "        },\n",
    "    )\n",
    "\n",
    "print(f\"Модель успешно экспортирована в файл: {onnx_file_path}\")  "
   ]
  }
 ],
 "metadata": {
  "kernelspec": {
   "display_name": "base1",
   "language": "python",
   "name": "python3"
  },
  "language_info": {
   "codemirror_mode": {
    "name": "ipython",
    "version": 3
   },
   "file_extension": ".py",
   "mimetype": "text/x-python",
   "name": "python",
   "nbconvert_exporter": "python",
   "pygments_lexer": "ipython3",
   "version": "3.12.3"
  }
 },
 "nbformat": 4,
 "nbformat_minor": 5
}
